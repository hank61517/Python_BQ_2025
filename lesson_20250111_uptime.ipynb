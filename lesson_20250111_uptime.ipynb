{
 "cells": [
  {
   "cell_type": "code",
   "execution_count": 1,
   "metadata": {},
   "outputs": [
    {
     "name": "stdout",
     "output_type": "stream",
     "text": [
      "安裝1:vscode\n",
      "安裝2:mini-conda\n",
      "安裝3:git\n"
     ]
    }
   ],
   "source": [
    "print('安裝1:vscode')\n",
    "print('安裝2:mini-conda')\n",
    "print('安裝3:git')"
   ]
  },
  {
   "cell_type": "code",
   "execution_count": 4,
   "metadata": {},
   "outputs": [
    {
     "data": {
      "text/plain": [
       "int"
      ]
     },
     "execution_count": 4,
     "metadata": {},
     "output_type": "execute_result"
    }
   ],
   "source": [
    "#整數int\n",
    "5\n",
    "type(5)"
   ]
  },
  {
   "cell_type": "code",
   "execution_count": 5,
   "metadata": {},
   "outputs": [
    {
     "data": {
      "text/plain": [
       "float"
      ]
     },
     "execution_count": 5,
     "metadata": {},
     "output_type": "execute_result"
    }
   ],
   "source": [
    "#浮點數float\n",
    "type(5.0)"
   ]
  },
  {
   "cell_type": "code",
   "execution_count": 6,
   "metadata": {},
   "outputs": [
    {
     "data": {
      "text/plain": [
       "str"
      ]
     },
     "execution_count": 6,
     "metadata": {},
     "output_type": "execute_result"
    }
   ],
   "source": [
    "#字串str\n",
    "'5.0'\n",
    "type(\"5.0\")"
   ]
  },
  {
   "cell_type": "code",
   "execution_count": 7,
   "metadata": {},
   "outputs": [
    {
     "name": "stdout",
     "output_type": "stream",
     "text": [
      "10\n",
      "20\n"
     ]
    }
   ],
   "source": [
    "print(2 * (1+2) ** 2 - 2 ** 2 * 2)\n",
    "print( (2+3) * 4 )"
   ]
  },
  {
   "cell_type": "code",
   "execution_count": 8,
   "metadata": {},
   "outputs": [
    {
     "name": "stdout",
     "output_type": "stream",
     "text": [
      "15\n"
     ]
    }
   ],
   "source": [
    "n = 1 + 5\n",
    "m = n + 3\n",
    "print( n + m )"
   ]
  },
  {
   "cell_type": "code",
   "execution_count": 17,
   "metadata": {},
   "outputs": [
    {
     "name": "stdout",
     "output_type": "stream",
     "text": [
      "<class 'str'>\n",
      "2900\n",
      "<class 'float'>\n",
      "2586.0\n",
      "1-2-3,=====\n",
      "1-2-3,=====\n",
      "\n",
      "1+2+3\n",
      "9+8+7\n",
      "\n",
      "4+5+6\n"
     ]
    }
   ],
   "source": [
    "#先用type查看數值型別，在印出來\n",
    "x = input('輸入數值：')\n",
    "print(type(x))\n",
    "print(int(x))\n",
    "\n",
    "y = float(x) - 150 - 164\n",
    "print(type(y))\n",
    "print(y)\n",
    "\n",
    "#後面引數可以略，也可不照順序\n",
    "print(1,2,3,sep='-',end=',=====\\n')\n",
    "print(1,2,3,end=',=====\\n',sep='-')\n",
    "print()\n",
    "\n",
    "#print 預設\\n換行\n",
    "print(\"1+2+3\")\n",
    "print(\"9+8+7\")\n",
    "print()\n",
    "print(\"4+5+6\")\n",
    "\n"
   ]
  },
  {
   "cell_type": "code",
   "execution_count": 36,
   "metadata": {},
   "outputs": [
    {
     "name": "stdout",
     "output_type": "stream",
     "text": [
      "半徑： 3.0\n",
      "直徑： 6.0\n",
      "圓周長： 18.849555951\n",
      "面積： 28.2743339265\n"
     ]
    }
   ],
   "source": [
    "#計算圓半徑\n",
    "radius = float(input(\"請輸入半徑：\"))\n",
    "diameter = radius * 2\n",
    "circumference = diameter * 3.1415926585\n",
    "area = 3.1415926585 * radius ** 2\n",
    "\n",
    "print(\"半徑：\",radius)\n",
    "print(\"直徑：\",diameter)\n",
    "print(\"圓周長：\",circumference)\n",
    "print(\"面積：\",area)"
   ]
  },
  {
   "cell_type": "code",
   "execution_count": 27,
   "metadata": {},
   "outputs": [
    {
     "name": "stdout",
     "output_type": "stream",
     "text": [
      "對邊： 3.0\n",
      "鄰邊： 4.0\n",
      "斜邊： 5.0\n"
     ]
    }
   ],
   "source": [
    "#import math這個module\n",
    "import math\n",
    "side        = float ( input ( \"請輸入對邊\" ) )\n",
    "anther_side = float ( input ( \"請輸入鄰邊\" ) )\n",
    "each_side   = math.sqrt( side ** 2 + anther_side ** 2 ) #使用sqrt 這個fuction\n",
    "\n",
    "print(\"對邊：\",side)\n",
    "print(\"鄰邊：\",anther_side)\n",
    "print(\"斜邊：\",each_side)"
   ]
  },
  {
   "cell_type": "code",
   "execution_count": 35,
   "metadata": {},
   "outputs": [
    {
     "name": "stdout",
     "output_type": "stream",
     "text": [
      "數據集: [22 24 45 67 78]\n",
      "標準差: 22.444598459317557\n",
      "樣本標準差: 25.09382394136055\n"
     ]
    }
   ],
   "source": [
    "import numpy as np\n",
    "\n",
    "data = np.array ( [ 22,24,45,67,78 ] )\n",
    "\n",
    "#std：標準差function\n",
    "std_dev = np.std(data)\n",
    "sample_std = (np.std(data, ddof=1))\n",
    "\n",
    "print(\"數據集:\",data)\n",
    "print(\"標準差:\",std_dev)\n",
    "print(\"樣本標準差:\",sample_std)\n"
   ]
  }
 ],
 "metadata": {
  "kernelspec": {
   "display_name": "base",
   "language": "python",
   "name": "python3"
  },
  "language_info": {
   "codemirror_mode": {
    "name": "ipython",
    "version": 3
   },
   "file_extension": ".py",
   "mimetype": "text/x-python",
   "name": "python",
   "nbconvert_exporter": "python",
   "pygments_lexer": "ipython3",
   "version": "3.12.2"
  }
 },
 "nbformat": 4,
 "nbformat_minor": 2
}
